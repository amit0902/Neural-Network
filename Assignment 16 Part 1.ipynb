{
 "cells": [
  {
   "cell_type": "code",
   "execution_count": 1,
   "metadata": {
    "ExecuteTime": {
     "end_time": "2021-04-26T17:27:12.952354Z",
     "start_time": "2021-04-26T17:27:06.102263Z"
    }
   },
   "outputs": [],
   "source": [
    "import pandas as pd\n",
    "import numpy as np\n",
    "#Plot Tools\n",
    "import matplotlib.pyplot as plt\n",
    "%matplotlib inline\n",
    "import seaborn as sns\n",
    "#Model Building\n",
    "from sklearn.preprocessing import LabelEncoder\n",
    "from sklearn.preprocessing import StandardScaler\n",
    "import sklearn\n",
    "import keras\n",
    "from keras.models import Sequential\n",
    "from keras.layers import InputLayer,Dense\n",
    "import tensorflow as tf\n",
    "#Model Validation\n",
    "from sklearn.model_selection import train_test_split\n",
    "from sklearn.metrics import accuracy_score"
   ]
  },
  {
   "cell_type": "markdown",
   "metadata": {},
   "source": [
    "## Load Dataset"
   ]
  },
  {
   "cell_type": "code",
   "execution_count": 2,
   "metadata": {
    "ExecuteTime": {
     "end_time": "2021-04-26T17:27:13.036951Z",
     "start_time": "2021-04-26T17:27:12.952354Z"
    }
   },
   "outputs": [
    {
     "data": {
      "text/html": [
       "<div>\n",
       "<style scoped>\n",
       "    .dataframe tbody tr th:only-of-type {\n",
       "        vertical-align: middle;\n",
       "    }\n",
       "\n",
       "    .dataframe tbody tr th {\n",
       "        vertical-align: top;\n",
       "    }\n",
       "\n",
       "    .dataframe thead th {\n",
       "        text-align: right;\n",
       "    }\n",
       "</style>\n",
       "<table border=\"1\" class=\"dataframe\">\n",
       "  <thead>\n",
       "    <tr style=\"text-align: right;\">\n",
       "      <th></th>\n",
       "      <th>month</th>\n",
       "      <th>day</th>\n",
       "      <th>FFMC</th>\n",
       "      <th>DMC</th>\n",
       "      <th>DC</th>\n",
       "      <th>ISI</th>\n",
       "      <th>temp</th>\n",
       "      <th>RH</th>\n",
       "      <th>wind</th>\n",
       "      <th>rain</th>\n",
       "      <th>...</th>\n",
       "      <th>monthfeb</th>\n",
       "      <th>monthjan</th>\n",
       "      <th>monthjul</th>\n",
       "      <th>monthjun</th>\n",
       "      <th>monthmar</th>\n",
       "      <th>monthmay</th>\n",
       "      <th>monthnov</th>\n",
       "      <th>monthoct</th>\n",
       "      <th>monthsep</th>\n",
       "      <th>size_category</th>\n",
       "    </tr>\n",
       "  </thead>\n",
       "  <tbody>\n",
       "    <tr>\n",
       "      <th>0</th>\n",
       "      <td>mar</td>\n",
       "      <td>fri</td>\n",
       "      <td>86.2</td>\n",
       "      <td>26.2</td>\n",
       "      <td>94.3</td>\n",
       "      <td>5.1</td>\n",
       "      <td>8.2</td>\n",
       "      <td>51</td>\n",
       "      <td>6.7</td>\n",
       "      <td>0.0</td>\n",
       "      <td>...</td>\n",
       "      <td>0</td>\n",
       "      <td>0</td>\n",
       "      <td>0</td>\n",
       "      <td>0</td>\n",
       "      <td>1</td>\n",
       "      <td>0</td>\n",
       "      <td>0</td>\n",
       "      <td>0</td>\n",
       "      <td>0</td>\n",
       "      <td>small</td>\n",
       "    </tr>\n",
       "    <tr>\n",
       "      <th>1</th>\n",
       "      <td>oct</td>\n",
       "      <td>tue</td>\n",
       "      <td>90.6</td>\n",
       "      <td>35.4</td>\n",
       "      <td>669.1</td>\n",
       "      <td>6.7</td>\n",
       "      <td>18.0</td>\n",
       "      <td>33</td>\n",
       "      <td>0.9</td>\n",
       "      <td>0.0</td>\n",
       "      <td>...</td>\n",
       "      <td>0</td>\n",
       "      <td>0</td>\n",
       "      <td>0</td>\n",
       "      <td>0</td>\n",
       "      <td>0</td>\n",
       "      <td>0</td>\n",
       "      <td>0</td>\n",
       "      <td>1</td>\n",
       "      <td>0</td>\n",
       "      <td>small</td>\n",
       "    </tr>\n",
       "    <tr>\n",
       "      <th>2</th>\n",
       "      <td>oct</td>\n",
       "      <td>sat</td>\n",
       "      <td>90.6</td>\n",
       "      <td>43.7</td>\n",
       "      <td>686.9</td>\n",
       "      <td>6.7</td>\n",
       "      <td>14.6</td>\n",
       "      <td>33</td>\n",
       "      <td>1.3</td>\n",
       "      <td>0.0</td>\n",
       "      <td>...</td>\n",
       "      <td>0</td>\n",
       "      <td>0</td>\n",
       "      <td>0</td>\n",
       "      <td>0</td>\n",
       "      <td>0</td>\n",
       "      <td>0</td>\n",
       "      <td>0</td>\n",
       "      <td>1</td>\n",
       "      <td>0</td>\n",
       "      <td>small</td>\n",
       "    </tr>\n",
       "    <tr>\n",
       "      <th>3</th>\n",
       "      <td>mar</td>\n",
       "      <td>fri</td>\n",
       "      <td>91.7</td>\n",
       "      <td>33.3</td>\n",
       "      <td>77.5</td>\n",
       "      <td>9.0</td>\n",
       "      <td>8.3</td>\n",
       "      <td>97</td>\n",
       "      <td>4.0</td>\n",
       "      <td>0.2</td>\n",
       "      <td>...</td>\n",
       "      <td>0</td>\n",
       "      <td>0</td>\n",
       "      <td>0</td>\n",
       "      <td>0</td>\n",
       "      <td>1</td>\n",
       "      <td>0</td>\n",
       "      <td>0</td>\n",
       "      <td>0</td>\n",
       "      <td>0</td>\n",
       "      <td>small</td>\n",
       "    </tr>\n",
       "    <tr>\n",
       "      <th>4</th>\n",
       "      <td>mar</td>\n",
       "      <td>sun</td>\n",
       "      <td>89.3</td>\n",
       "      <td>51.3</td>\n",
       "      <td>102.2</td>\n",
       "      <td>9.6</td>\n",
       "      <td>11.4</td>\n",
       "      <td>99</td>\n",
       "      <td>1.8</td>\n",
       "      <td>0.0</td>\n",
       "      <td>...</td>\n",
       "      <td>0</td>\n",
       "      <td>0</td>\n",
       "      <td>0</td>\n",
       "      <td>0</td>\n",
       "      <td>1</td>\n",
       "      <td>0</td>\n",
       "      <td>0</td>\n",
       "      <td>0</td>\n",
       "      <td>0</td>\n",
       "      <td>small</td>\n",
       "    </tr>\n",
       "  </tbody>\n",
       "</table>\n",
       "<p>5 rows × 31 columns</p>\n",
       "</div>"
      ],
      "text/plain": [
       "  month  day  FFMC   DMC     DC  ISI  temp  RH  wind  rain  ...  monthfeb  \\\n",
       "0   mar  fri  86.2  26.2   94.3  5.1   8.2  51   6.7   0.0  ...         0   \n",
       "1   oct  tue  90.6  35.4  669.1  6.7  18.0  33   0.9   0.0  ...         0   \n",
       "2   oct  sat  90.6  43.7  686.9  6.7  14.6  33   1.3   0.0  ...         0   \n",
       "3   mar  fri  91.7  33.3   77.5  9.0   8.3  97   4.0   0.2  ...         0   \n",
       "4   mar  sun  89.3  51.3  102.2  9.6  11.4  99   1.8   0.0  ...         0   \n",
       "\n",
       "   monthjan  monthjul  monthjun  monthmar  monthmay  monthnov  monthoct  \\\n",
       "0         0         0         0         1         0         0         0   \n",
       "1         0         0         0         0         0         0         1   \n",
       "2         0         0         0         0         0         0         1   \n",
       "3         0         0         0         1         0         0         0   \n",
       "4         0         0         0         1         0         0         0   \n",
       "\n",
       "   monthsep  size_category  \n",
       "0         0          small  \n",
       "1         0          small  \n",
       "2         0          small  \n",
       "3         0          small  \n",
       "4         0          small  \n",
       "\n",
       "[5 rows x 31 columns]"
      ]
     },
     "execution_count": 2,
     "metadata": {},
     "output_type": "execute_result"
    }
   ],
   "source": [
    "data = pd.read_csv(r\"E:\\ExcelR Assignment\\Assignment 16 - Neural Networks\\forestfires.csv\")\n",
    "data.head()"
   ]
  },
  {
   "cell_type": "markdown",
   "metadata": {},
   "source": [
    "### Drop month and day as we already have one hot encoded values"
   ]
  },
  {
   "cell_type": "code",
   "execution_count": 3,
   "metadata": {
    "ExecuteTime": {
     "end_time": "2021-04-26T17:27:13.137228Z",
     "start_time": "2021-04-26T17:27:13.036951Z"
    }
   },
   "outputs": [
    {
     "data": {
      "text/html": [
       "<div>\n",
       "<style scoped>\n",
       "    .dataframe tbody tr th:only-of-type {\n",
       "        vertical-align: middle;\n",
       "    }\n",
       "\n",
       "    .dataframe tbody tr th {\n",
       "        vertical-align: top;\n",
       "    }\n",
       "\n",
       "    .dataframe thead th {\n",
       "        text-align: right;\n",
       "    }\n",
       "</style>\n",
       "<table border=\"1\" class=\"dataframe\">\n",
       "  <thead>\n",
       "    <tr style=\"text-align: right;\">\n",
       "      <th></th>\n",
       "      <th>FFMC</th>\n",
       "      <th>DMC</th>\n",
       "      <th>DC</th>\n",
       "      <th>ISI</th>\n",
       "      <th>temp</th>\n",
       "      <th>RH</th>\n",
       "      <th>wind</th>\n",
       "      <th>rain</th>\n",
       "      <th>area</th>\n",
       "      <th>dayfri</th>\n",
       "      <th>...</th>\n",
       "      <th>monthfeb</th>\n",
       "      <th>monthjan</th>\n",
       "      <th>monthjul</th>\n",
       "      <th>monthjun</th>\n",
       "      <th>monthmar</th>\n",
       "      <th>monthmay</th>\n",
       "      <th>monthnov</th>\n",
       "      <th>monthoct</th>\n",
       "      <th>monthsep</th>\n",
       "      <th>size_category</th>\n",
       "    </tr>\n",
       "  </thead>\n",
       "  <tbody>\n",
       "    <tr>\n",
       "      <th>0</th>\n",
       "      <td>86.2</td>\n",
       "      <td>26.2</td>\n",
       "      <td>94.3</td>\n",
       "      <td>5.1</td>\n",
       "      <td>8.2</td>\n",
       "      <td>51</td>\n",
       "      <td>6.7</td>\n",
       "      <td>0.0</td>\n",
       "      <td>0.0</td>\n",
       "      <td>1</td>\n",
       "      <td>...</td>\n",
       "      <td>0</td>\n",
       "      <td>0</td>\n",
       "      <td>0</td>\n",
       "      <td>0</td>\n",
       "      <td>1</td>\n",
       "      <td>0</td>\n",
       "      <td>0</td>\n",
       "      <td>0</td>\n",
       "      <td>0</td>\n",
       "      <td>small</td>\n",
       "    </tr>\n",
       "    <tr>\n",
       "      <th>1</th>\n",
       "      <td>90.6</td>\n",
       "      <td>35.4</td>\n",
       "      <td>669.1</td>\n",
       "      <td>6.7</td>\n",
       "      <td>18.0</td>\n",
       "      <td>33</td>\n",
       "      <td>0.9</td>\n",
       "      <td>0.0</td>\n",
       "      <td>0.0</td>\n",
       "      <td>0</td>\n",
       "      <td>...</td>\n",
       "      <td>0</td>\n",
       "      <td>0</td>\n",
       "      <td>0</td>\n",
       "      <td>0</td>\n",
       "      <td>0</td>\n",
       "      <td>0</td>\n",
       "      <td>0</td>\n",
       "      <td>1</td>\n",
       "      <td>0</td>\n",
       "      <td>small</td>\n",
       "    </tr>\n",
       "  </tbody>\n",
       "</table>\n",
       "<p>2 rows × 27 columns</p>\n",
       "</div>"
      ],
      "text/plain": [
       "   FFMC   DMC     DC  ISI  temp  RH  wind  rain  area  dayfri  ...  monthfeb  \\\n",
       "0  86.2  26.2   94.3  5.1   8.2  51   6.7   0.0   0.0       1  ...         0   \n",
       "1  90.6  35.4  669.1  6.7  18.0  33   0.9   0.0   0.0       0  ...         0   \n",
       "\n",
       "   monthjan  monthjul  monthjun  monthmar  monthmay  monthnov  monthoct  \\\n",
       "0         0         0         0         1         0         0         0   \n",
       "1         0         0         0         0         0         0         1   \n",
       "\n",
       "   monthsep  size_category  \n",
       "0         0          small  \n",
       "1         0          small  \n",
       "\n",
       "[2 rows x 27 columns]"
      ]
     },
     "execution_count": 3,
     "metadata": {},
     "output_type": "execute_result"
    }
   ],
   "source": [
    "data = data.drop(['month','day','daysun','monthdec'],axis=1)\n",
    "data.head(2)"
   ]
  },
  {
   "cell_type": "code",
   "execution_count": 4,
   "metadata": {
    "ExecuteTime": {
     "end_time": "2021-04-26T17:27:13.215363Z",
     "start_time": "2021-04-26T17:27:13.137228Z"
    }
   },
   "outputs": [
    {
     "data": {
      "text/plain": [
       "FFMC             float64\n",
       "DMC              float64\n",
       "DC               float64\n",
       "ISI              float64\n",
       "temp             float64\n",
       "RH                 int64\n",
       "wind             float64\n",
       "rain             float64\n",
       "area             float64\n",
       "dayfri             int64\n",
       "daymon             int64\n",
       "daysat             int64\n",
       "daythu             int64\n",
       "daytue             int64\n",
       "daywed             int64\n",
       "monthapr           int64\n",
       "monthaug           int64\n",
       "monthfeb           int64\n",
       "monthjan           int64\n",
       "monthjul           int64\n",
       "monthjun           int64\n",
       "monthmar           int64\n",
       "monthmay           int64\n",
       "monthnov           int64\n",
       "monthoct           int64\n",
       "monthsep           int64\n",
       "size_category     object\n",
       "dtype: object"
      ]
     },
     "execution_count": 4,
     "metadata": {},
     "output_type": "execute_result"
    }
   ],
   "source": [
    "data.dtypes"
   ]
  },
  {
   "cell_type": "markdown",
   "metadata": {},
   "source": [
    "## Data Analysis & Data Visualization"
   ]
  },
  {
   "cell_type": "code",
   "execution_count": 5,
   "metadata": {
    "ExecuteTime": {
     "end_time": "2021-04-26T17:27:16.924394Z",
     "start_time": "2021-04-26T17:27:13.215363Z"
    }
   },
   "outputs": [
    {
     "data": {
      "text/plain": [
       "<AxesSubplot:xlabel='area', ylabel='Density'>"
      ]
     },
     "execution_count": 5,
     "metadata": {},
     "output_type": "execute_result"
    },
    {
     "data": {
      "image/png": "[encoded data removed]",
      "text/plain": [
       "<Figure size 1440x1080 with 9 Axes>"
      ]
     },
     "metadata": {
      "needs_background": "light"
     },
     "output_type": "display_data"
    }
   ],
   "source": [
    "import warnings\n",
    "warnings.filterwarnings(\"ignore\")\n",
    "fig, axes = plt.subplots(3, 3, figsize=(20, 15))\n",
    "fig.suptitle('Univariate Analysis',fontsize=20)\n",
    "sns.distplot(data['FFMC'],ax=axes[0,0],color='indigo')\n",
    "sns.distplot(data['DMC'],ax=axes[0,1],color='orange')\n",
    "sns.distplot(data['DC'],ax=axes[0,2],color='olive')\n",
    "sns.distplot(data['ISI'],ax=axes[1,0],color='indigo')\n",
    "sns.distplot(data['temp'],ax=axes[1,1],color='orange')\n",
    "sns.distplot(data['RH'],ax=axes[1,2],color='olive')\n",
    "sns.distplot(data['wind'],ax=axes[2,0],color='indigo')\n",
    "sns.distplot(data['rain'],ax=axes[2,1],color='orange')\n",
    "sns.distplot(data['area'],ax=axes[2,2],color='olive')"
   ]
  },
  {
   "cell_type": "markdown",
   "metadata": {},
   "source": [
    "### Inferences:\n",
    "\n",
    "1. Left Skewness :  DMC | ISI | RH | rain | area\n",
    "2. Right Skewness : FFMC | DC  \n",
    "3. temp | wind  seems to have normally distribution"
   ]
  },
  {
   "cell_type": "code",
   "execution_count": 6,
   "metadata": {
    "ExecuteTime": {
     "end_time": "2021-04-26T17:27:17.024650Z",
     "start_time": "2021-04-26T17:27:16.924394Z"
    }
   },
   "outputs": [
    {
     "data": {
      "text/html": [
       "<div>\n",
       "<style scoped>\n",
       "    .dataframe tbody tr th:only-of-type {\n",
       "        vertical-align: middle;\n",
       "    }\n",
       "\n",
       "    .dataframe tbody tr th {\n",
       "        vertical-align: top;\n",
       "    }\n",
       "\n",
       "    .dataframe thead th {\n",
       "        text-align: right;\n",
       "    }\n",
       "</style>\n",
       "<table border=\"1\" class=\"dataframe\">\n",
       "  <thead>\n",
       "    <tr style=\"text-align: right;\">\n",
       "      <th></th>\n",
       "      <th>FFMC</th>\n",
       "      <th>DMC</th>\n",
       "      <th>DC</th>\n",
       "      <th>ISI</th>\n",
       "      <th>temp</th>\n",
       "      <th>RH</th>\n",
       "      <th>wind</th>\n",
       "      <th>rain</th>\n",
       "      <th>area</th>\n",
       "      <th>dayfri</th>\n",
       "      <th>...</th>\n",
       "      <th>monthfeb</th>\n",
       "      <th>monthjan</th>\n",
       "      <th>monthjul</th>\n",
       "      <th>monthjun</th>\n",
       "      <th>monthmar</th>\n",
       "      <th>monthmay</th>\n",
       "      <th>monthnov</th>\n",
       "      <th>monthoct</th>\n",
       "      <th>monthsep</th>\n",
       "      <th>size_category</th>\n",
       "    </tr>\n",
       "  </thead>\n",
       "  <tbody>\n",
       "    <tr>\n",
       "      <th>0</th>\n",
       "      <td>86.2</td>\n",
       "      <td>26.2</td>\n",
       "      <td>94.3</td>\n",
       "      <td>5.1</td>\n",
       "      <td>8.2</td>\n",
       "      <td>51</td>\n",
       "      <td>6.7</td>\n",
       "      <td>0.0</td>\n",
       "      <td>0.0</td>\n",
       "      <td>1</td>\n",
       "      <td>...</td>\n",
       "      <td>0</td>\n",
       "      <td>0</td>\n",
       "      <td>0</td>\n",
       "      <td>0</td>\n",
       "      <td>1</td>\n",
       "      <td>0</td>\n",
       "      <td>0</td>\n",
       "      <td>0</td>\n",
       "      <td>0</td>\n",
       "      <td>1</td>\n",
       "    </tr>\n",
       "    <tr>\n",
       "      <th>1</th>\n",
       "      <td>90.6</td>\n",
       "      <td>35.4</td>\n",
       "      <td>669.1</td>\n",
       "      <td>6.7</td>\n",
       "      <td>18.0</td>\n",
       "      <td>33</td>\n",
       "      <td>0.9</td>\n",
       "      <td>0.0</td>\n",
       "      <td>0.0</td>\n",
       "      <td>0</td>\n",
       "      <td>...</td>\n",
       "      <td>0</td>\n",
       "      <td>0</td>\n",
       "      <td>0</td>\n",
       "      <td>0</td>\n",
       "      <td>0</td>\n",
       "      <td>0</td>\n",
       "      <td>0</td>\n",
       "      <td>1</td>\n",
       "      <td>0</td>\n",
       "      <td>1</td>\n",
       "    </tr>\n",
       "    <tr>\n",
       "      <th>2</th>\n",
       "      <td>90.6</td>\n",
       "      <td>43.7</td>\n",
       "      <td>686.9</td>\n",
       "      <td>6.7</td>\n",
       "      <td>14.6</td>\n",
       "      <td>33</td>\n",
       "      <td>1.3</td>\n",
       "      <td>0.0</td>\n",
       "      <td>0.0</td>\n",
       "      <td>0</td>\n",
       "      <td>...</td>\n",
       "      <td>0</td>\n",
       "      <td>0</td>\n",
       "      <td>0</td>\n",
       "      <td>0</td>\n",
       "      <td>0</td>\n",
       "      <td>0</td>\n",
       "      <td>0</td>\n",
       "      <td>1</td>\n",
       "      <td>0</td>\n",
       "      <td>1</td>\n",
       "    </tr>\n",
       "    <tr>\n",
       "      <th>3</th>\n",
       "      <td>91.7</td>\n",
       "      <td>33.3</td>\n",
       "      <td>77.5</td>\n",
       "      <td>9.0</td>\n",
       "      <td>8.3</td>\n",
       "      <td>97</td>\n",
       "      <td>4.0</td>\n",
       "      <td>0.2</td>\n",
       "      <td>0.0</td>\n",
       "      <td>1</td>\n",
       "      <td>...</td>\n",
       "      <td>0</td>\n",
       "      <td>0</td>\n",
       "      <td>0</td>\n",
       "      <td>0</td>\n",
       "      <td>1</td>\n",
       "      <td>0</td>\n",
       "      <td>0</td>\n",
       "      <td>0</td>\n",
       "      <td>0</td>\n",
       "      <td>1</td>\n",
       "    </tr>\n",
       "    <tr>\n",
       "      <th>4</th>\n",
       "      <td>89.3</td>\n",
       "      <td>51.3</td>\n",
       "      <td>102.2</td>\n",
       "      <td>9.6</td>\n",
       "      <td>11.4</td>\n",
       "      <td>99</td>\n",
       "      <td>1.8</td>\n",
       "      <td>0.0</td>\n",
       "      <td>0.0</td>\n",
       "      <td>0</td>\n",
       "      <td>...</td>\n",
       "      <td>0</td>\n",
       "      <td>0</td>\n",
       "      <td>0</td>\n",
       "      <td>0</td>\n",
       "      <td>1</td>\n",
       "      <td>0</td>\n",
       "      <td>0</td>\n",
       "      <td>0</td>\n",
       "      <td>0</td>\n",
       "      <td>1</td>\n",
       "    </tr>\n",
       "  </tbody>\n",
       "</table>\n",
       "<p>5 rows × 27 columns</p>\n",
       "</div>"
      ],
      "text/plain": [
       "   FFMC   DMC     DC  ISI  temp  RH  wind  rain  area  dayfri  ...  monthfeb  \\\n",
       "0  86.2  26.2   94.3  5.1   8.2  51   6.7   0.0   0.0       1  ...         0   \n",
       "1  90.6  35.4  669.1  6.7  18.0  33   0.9   0.0   0.0       0  ...         0   \n",
       "2  90.6  43.7  686.9  6.7  14.6  33   1.3   0.0   0.0       0  ...         0   \n",
       "3  91.7  33.3   77.5  9.0   8.3  97   4.0   0.2   0.0       1  ...         0   \n",
       "4  89.3  51.3  102.2  9.6  11.4  99   1.8   0.0   0.0       0  ...         0   \n",
       "\n",
       "   monthjan  monthjul  monthjun  monthmar  monthmay  monthnov  monthoct  \\\n",
       "0         0         0         0         1         0         0         0   \n",
       "1         0         0         0         0         0         0         1   \n",
       "2         0         0         0         0         0         0         1   \n",
       "3         0         0         0         1         0         0         0   \n",
       "4         0         0         0         1         0         0         0   \n",
       "\n",
       "   monthsep  size_category  \n",
       "0         0              1  \n",
       "1         0              1  \n",
       "2         0              1  \n",
       "3         0              1  \n",
       "4         0              1  \n",
       "\n",
       "[5 rows x 27 columns]"
      ]
     },
     "execution_count": 6,
     "metadata": {},
     "output_type": "execute_result"
    }
   ],
   "source": [
    "label_encoder = LabelEncoder()\n",
    "data['size_category'] = label_encoder.fit_transform(data['size_category'])\n",
    "data.head()"
   ]
  },
  {
   "cell_type": "markdown",
   "metadata": {},
   "source": [
    "#### So small = 1 and large = 0 as per Label Encoding"
   ]
  },
  {
   "cell_type": "markdown",
   "metadata": {},
   "source": [
    "## Splitting the variables"
   ]
  },
  {
   "cell_type": "code",
   "execution_count": 7,
   "metadata": {
    "ExecuteTime": {
     "end_time": "2021-04-26T17:27:17.118345Z",
     "start_time": "2021-04-26T17:27:17.024650Z"
    }
   },
   "outputs": [],
   "source": [
    "X = data.iloc[:,0:-1]\n",
    "Y = data.iloc[:,-1]"
   ]
  },
  {
   "cell_type": "code",
   "execution_count": 8,
   "metadata": {
    "ExecuteTime": {
     "end_time": "2021-04-26T17:27:17.218593Z",
     "start_time": "2021-04-26T17:27:17.118345Z"
    }
   },
   "outputs": [
    {
     "data": {
      "text/plain": [
       "1    378\n",
       "0    139\n",
       "Name: size_category, dtype: int64"
      ]
     },
     "execution_count": 8,
     "metadata": {},
     "output_type": "execute_result"
    }
   ],
   "source": [
    "data['size_category'].value_counts()"
   ]
  },
  {
   "cell_type": "markdown",
   "metadata": {},
   "source": [
    "## Up-sampling as the Target Variable is not balanced"
   ]
  },
  {
   "cell_type": "code",
   "execution_count": 9,
   "metadata": {
    "ExecuteTime": {
     "end_time": "2021-04-26T17:27:17.650890Z",
     "start_time": "2021-04-26T17:27:17.218593Z"
    }
   },
   "outputs": [],
   "source": [
    "from imblearn.combine import SMOTETomek\n",
    "# Performing Oversampling method to handle imbalanced data\n",
    "\n",
    "smk = SMOTETomek(random_state=42)\n",
    "X_res,y_res = smk.fit_resample(X,Y)"
   ]
  },
  {
   "cell_type": "code",
   "execution_count": 10,
   "metadata": {
    "ExecuteTime": {
     "end_time": "2021-04-26T17:27:17.666500Z",
     "start_time": "2021-04-26T17:27:17.650890Z"
    }
   },
   "outputs": [
    {
     "data": {
      "text/plain": [
       "(((517, 26), (517,)), ((746, 26), (746,)))"
      ]
     },
     "execution_count": 10,
     "metadata": {},
     "output_type": "execute_result"
    }
   ],
   "source": [
    "(X.shape,Y.shape),(X_res.shape,y_res.shape)"
   ]
  },
  {
   "cell_type": "markdown",
   "metadata": {},
   "source": [
    "### Create Train & Validation Set"
   ]
  },
  {
   "cell_type": "code",
   "execution_count": 11,
   "metadata": {
    "ExecuteTime": {
     "end_time": "2021-04-26T17:27:17.766785Z",
     "start_time": "2021-04-26T17:27:17.666500Z"
    }
   },
   "outputs": [],
   "source": [
    "X_train,X_test,y_train,y_test = train_test_split(X_res,y_res,stratify=y_res,random_state=42,test_size=0.3)"
   ]
  },
  {
   "cell_type": "markdown",
   "metadata": {},
   "source": [
    "### Standardizing the first few columns till area"
   ]
  },
  {
   "cell_type": "code",
   "execution_count": 12,
   "metadata": {
    "ExecuteTime": {
     "end_time": "2021-04-26T17:27:17.851419Z",
     "start_time": "2021-04-26T17:27:17.766785Z"
    }
   },
   "outputs": [],
   "source": [
    "scaler = StandardScaler()\n",
    "X_train = scaler.fit_transform(X_train)\n",
    "X_test = scaler.transform(X_test)"
   ]
  },
  {
   "cell_type": "markdown",
   "metadata": {},
   "source": [
    "## Define Architecture"
   ]
  },
  {
   "cell_type": "code",
   "execution_count": 13,
   "metadata": {
    "ExecuteTime": {
     "end_time": "2021-04-26T17:27:17.936077Z",
     "start_time": "2021-04-26T17:27:17.851419Z"
    }
   },
   "outputs": [],
   "source": [
    "input_neurons = X_train.shape[1]\n",
    "output_neurons = 1"
   ]
  },
  {
   "cell_type": "code",
   "execution_count": 14,
   "metadata": {
    "ExecuteTime": {
     "end_time": "2021-04-26T17:27:18.036360Z",
     "start_time": "2021-04-26T17:27:17.936077Z"
    }
   },
   "outputs": [],
   "source": [
    "Hidden_Layers = 2\n",
    "hidden_layer_1 = 20\n",
    "hidden_layer_2 = 8"
   ]
  },
  {
   "cell_type": "code",
   "execution_count": 15,
   "metadata": {
    "ExecuteTime": {
     "end_time": "2021-04-26T17:27:18.268139Z",
     "start_time": "2021-04-26T17:27:18.036360Z"
    }
   },
   "outputs": [],
   "source": [
    "model = Sequential()\n",
    "model.add(InputLayer(input_shape=(input_neurons,)))\n",
    "model.add(Dense(units=hidden_layer_1,activation='relu'))\n",
    "model.add(Dense(units=hidden_layer_2,activation='relu'))\n",
    "model.add(Dense(units=output_neurons,activation='sigmoid'))"
   ]
  },
  {
   "cell_type": "code",
   "execution_count": 16,
   "metadata": {
    "ExecuteTime": {
     "end_time": "2021-04-26T17:27:18.299372Z",
     "start_time": "2021-04-26T17:27:18.268139Z"
    }
   },
   "outputs": [
    {
     "name": "stdout",
     "output_type": "stream",
     "text": [
      "Model: \"sequential\"\n",
      "_________________________________________________________________\n",
      "Layer (type)                 Output Shape              Param #   \n",
      "=================================================================\n",
      "dense (Dense)                (None, 20)                540       \n",
      "_________________________________________________________________\n",
      "dense_1 (Dense)              (None, 8)                 168       \n",
      "_________________________________________________________________\n",
      "dense_2 (Dense)              (None, 1)                 9         \n",
      "=================================================================\n",
      "Total params: 717\n",
      "Trainable params: 717\n",
      "Non-trainable params: 0\n",
      "_________________________________________________________________\n"
     ]
    }
   ],
   "source": [
    "model.summary()"
   ]
  },
  {
   "cell_type": "code",
   "execution_count": 17,
   "metadata": {
    "ExecuteTime": {
     "end_time": "2021-04-26T17:27:18.421823Z",
     "start_time": "2021-04-26T17:27:18.299372Z"
    }
   },
   "outputs": [],
   "source": [
    "model.compile(loss='binary_crossentropy',optimizer='Adam',metrics=['accuracy'])"
   ]
  },
  {
   "cell_type": "markdown",
   "metadata": {},
   "source": [
    "## Train the model"
   ]
  },
  {
   "cell_type": "code",
   "execution_count": 18,
   "metadata": {
    "ExecuteTime": {
     "end_time": "2021-04-26T17:27:30.690802Z",
     "start_time": "2021-04-26T17:27:18.421823Z"
    },
    "scrolled": true
   },
   "outputs": [
    {
     "name": "stdout",
     "output_type": "stream",
     "text": [
      "Epoch 1/100\n",
      "17/17 [==============================] - 2s 95ms/step - loss: 1.0045 - accuracy: 0.5220 - val_loss: 0.9628 - val_accuracy: 0.4911\n",
      "Epoch 2/100\n",
      "17/17 [==============================] - 0s 6ms/step - loss: 0.9270 - accuracy: 0.4860 - val_loss: 0.8644 - val_accuracy: 0.4554\n",
      "Epoch 3/100\n",
      "17/17 [==============================] - 0s 6ms/step - loss: 0.8003 - accuracy: 0.5120 - val_loss: 0.8054 - val_accuracy: 0.4821\n",
      "Epoch 4/100\n",
      "17/17 [==============================] - 0s 6ms/step - loss: 0.7512 - accuracy: 0.4931 - val_loss: 0.7667 - val_accuracy: 0.4732\n",
      "Epoch 5/100\n",
      "17/17 [==============================] - 0s 5ms/step - loss: 0.7253 - accuracy: 0.5052 - val_loss: 0.7413 - val_accuracy: 0.4955\n",
      "Epoch 6/100\n",
      "17/17 [==============================] - 0s 5ms/step - loss: 0.6954 - accuracy: 0.5467 - val_loss: 0.7191 - val_accuracy: 0.5312\n",
      "Epoch 7/100\n",
      "17/17 [==============================] - 0s 5ms/step - loss: 0.6824 - accuracy: 0.5810 - val_loss: 0.7015 - val_accuracy: 0.5670\n",
      "Epoch 8/100\n",
      "17/17 [==============================] - 0s 5ms/step - loss: 0.6733 - accuracy: 0.5722 - val_loss: 0.6877 - val_accuracy: 0.5804\n",
      "Epoch 9/100\n",
      "17/17 [==============================] - 0s 5ms/step - loss: 0.6648 - accuracy: 0.5983 - val_loss: 0.6752 - val_accuracy: 0.6295\n",
      "Epoch 10/100\n",
      "17/17 [==============================] - 0s 6ms/step - loss: 0.6459 - accuracy: 0.6387 - val_loss: 0.6655 - val_accuracy: 0.6518\n",
      "Epoch 11/100\n",
      "17/17 [==============================] - 0s 7ms/step - loss: 0.6338 - accuracy: 0.6768 - val_loss: 0.6562 - val_accuracy: 0.6741\n",
      "Epoch 12/100\n",
      "17/17 [==============================] - 0s 5ms/step - loss: 0.6193 - accuracy: 0.7307 - val_loss: 0.6448 - val_accuracy: 0.6741\n",
      "Epoch 13/100\n",
      "17/17 [==============================] - 0s 5ms/step - loss: 0.6078 - accuracy: 0.7496 - val_loss: 0.6349 - val_accuracy: 0.6920\n",
      "Epoch 14/100\n",
      "17/17 [==============================] - 0s 5ms/step - loss: 0.6036 - accuracy: 0.7634 - val_loss: 0.6242 - val_accuracy: 0.7321\n",
      "Epoch 15/100\n",
      "17/17 [==============================] - 0s 5ms/step - loss: 0.5899 - accuracy: 0.7769 - val_loss: 0.6158 - val_accuracy: 0.7277\n",
      "Epoch 16/100\n",
      "17/17 [==============================] - 0s 6ms/step - loss: 0.5678 - accuracy: 0.7811 - val_loss: 0.6054 - val_accuracy: 0.7321\n",
      "Epoch 17/100\n",
      "17/17 [==============================] - 0s 5ms/step - loss: 0.5555 - accuracy: 0.7789 - val_loss: 0.5935 - val_accuracy: 0.7366\n",
      "Epoch 18/100\n",
      "17/17 [==============================] - 0s 5ms/step - loss: 0.5515 - accuracy: 0.7709 - val_loss: 0.5771 - val_accuracy: 0.7500\n",
      "Epoch 19/100\n",
      "17/17 [==============================] - 0s 5ms/step - loss: 0.5306 - accuracy: 0.7981 - val_loss: 0.5606 - val_accuracy: 0.7589\n",
      "Epoch 20/100\n",
      "17/17 [==============================] - 0s 6ms/step - loss: 0.5101 - accuracy: 0.7815 - val_loss: 0.5497 - val_accuracy: 0.7545\n",
      "Epoch 21/100\n",
      "17/17 [==============================] - 0s 6ms/step - loss: 0.4928 - accuracy: 0.8014 - val_loss: 0.5348 - val_accuracy: 0.7768\n",
      "Epoch 22/100\n",
      "17/17 [==============================] - 0s 5ms/step - loss: 0.4996 - accuracy: 0.7829 - val_loss: 0.5228 - val_accuracy: 0.7857\n",
      "Epoch 23/100\n",
      "17/17 [==============================] - 0s 5ms/step - loss: 0.4680 - accuracy: 0.8147 - val_loss: 0.5103 - val_accuracy: 0.7946\n",
      "Epoch 24/100\n",
      "17/17 [==============================] - 0s 5ms/step - loss: 0.4462 - accuracy: 0.8349 - val_loss: 0.5011 - val_accuracy: 0.7857\n",
      "Epoch 25/100\n",
      "17/17 [==============================] - 0s 5ms/step - loss: 0.4235 - accuracy: 0.8309 - val_loss: 0.4899 - val_accuracy: 0.7902\n",
      "Epoch 26/100\n",
      "17/17 [==============================] - 0s 6ms/step - loss: 0.4381 - accuracy: 0.7870 - val_loss: 0.4785 - val_accuracy: 0.7946\n",
      "Epoch 27/100\n",
      "17/17 [==============================] - 0s 6ms/step - loss: 0.4187 - accuracy: 0.8007 - val_loss: 0.4703 - val_accuracy: 0.8080\n",
      "Epoch 28/100\n",
      "17/17 [==============================] - 0s 5ms/step - loss: 0.3983 - accuracy: 0.8370 - val_loss: 0.4602 - val_accuracy: 0.8036\n",
      "Epoch 29/100\n",
      "17/17 [==============================] - 0s 6ms/step - loss: 0.3869 - accuracy: 0.8477 - val_loss: 0.4507 - val_accuracy: 0.8080\n",
      "Epoch 30/100\n",
      "17/17 [==============================] - 0s 5ms/step - loss: 0.3933 - accuracy: 0.8200 - val_loss: 0.4433 - val_accuracy: 0.8125\n",
      "Epoch 31/100\n",
      "17/17 [==============================] - 0s 5ms/step - loss: 0.3780 - accuracy: 0.8373 - val_loss: 0.4361 - val_accuracy: 0.8125\n",
      "Epoch 32/100\n",
      "17/17 [==============================] - 0s 5ms/step - loss: 0.4164 - accuracy: 0.7930 - val_loss: 0.4297 - val_accuracy: 0.8080\n",
      "Epoch 33/100\n",
      "17/17 [==============================] - 0s 5ms/step - loss: 0.3688 - accuracy: 0.8442 - val_loss: 0.4221 - val_accuracy: 0.8259\n",
      "Epoch 34/100\n",
      "17/17 [==============================] - 0s 5ms/step - loss: 0.3606 - accuracy: 0.8561 - val_loss: 0.4169 - val_accuracy: 0.8170\n",
      "Epoch 35/100\n",
      "17/17 [==============================] - 0s 5ms/step - loss: 0.3716 - accuracy: 0.8195 - val_loss: 0.4117 - val_accuracy: 0.8259\n",
      "Epoch 36/100\n",
      "17/17 [==============================] - 0s 6ms/step - loss: 0.3459 - accuracy: 0.8418 - val_loss: 0.4075 - val_accuracy: 0.8304\n",
      "Epoch 37/100\n",
      "17/17 [==============================] - 0s 5ms/step - loss: 0.3579 - accuracy: 0.8288 - val_loss: 0.3988 - val_accuracy: 0.8304\n",
      "Epoch 38/100\n",
      "17/17 [==============================] - 0s 5ms/step - loss: 0.3314 - accuracy: 0.8626 - val_loss: 0.3921 - val_accuracy: 0.8393\n",
      "Epoch 39/100\n",
      "17/17 [==============================] - 0s 5ms/step - loss: 0.3314 - accuracy: 0.8612 - val_loss: 0.3873 - val_accuracy: 0.8527\n",
      "Epoch 40/100\n",
      "17/17 [==============================] - 0s 5ms/step - loss: 0.3199 - accuracy: 0.8810 - val_loss: 0.3835 - val_accuracy: 0.8527\n",
      "Epoch 41/100\n",
      "17/17 [==============================] - 0s 5ms/step - loss: 0.3079 - accuracy: 0.8911 - val_loss: 0.3805 - val_accuracy: 0.8661\n",
      "Epoch 42/100\n",
      "17/17 [==============================] - 0s 6ms/step - loss: 0.3112 - accuracy: 0.8823 - val_loss: 0.3724 - val_accuracy: 0.8661\n",
      "Epoch 43/100\n",
      "17/17 [==============================] - 0s 5ms/step - loss: 0.2897 - accuracy: 0.8921 - val_loss: 0.3659 - val_accuracy: 0.8750\n",
      "Epoch 44/100\n",
      "17/17 [==============================] - 0s 5ms/step - loss: 0.2873 - accuracy: 0.8967 - val_loss: 0.3638 - val_accuracy: 0.8705\n",
      "Epoch 45/100\n",
      "17/17 [==============================] - 0s 5ms/step - loss: 0.2655 - accuracy: 0.8948 - val_loss: 0.3560 - val_accuracy: 0.8750\n",
      "Epoch 46/100\n",
      "17/17 [==============================] - 0s 5ms/step - loss: 0.2685 - accuracy: 0.9183 - val_loss: 0.3566 - val_accuracy: 0.8795\n",
      "Epoch 47/100\n",
      "17/17 [==============================] - 0s 5ms/step - loss: 0.2704 - accuracy: 0.9139 - val_loss: 0.3493 - val_accuracy: 0.8884\n",
      "Epoch 48/100\n",
      "17/17 [==============================] - 0s 5ms/step - loss: 0.2595 - accuracy: 0.9115 - val_loss: 0.3456 - val_accuracy: 0.8839\n",
      "Epoch 49/100\n",
      "17/17 [==============================] - 0s 5ms/step - loss: 0.2478 - accuracy: 0.9155 - val_loss: 0.3423 - val_accuracy: 0.8884\n",
      "Epoch 50/100\n",
      "17/17 [==============================] - 0s 5ms/step - loss: 0.2519 - accuracy: 0.9187 - val_loss: 0.3365 - val_accuracy: 0.8884\n",
      "Epoch 51/100\n",
      "17/17 [==============================] - 0s 6ms/step - loss: 0.2306 - accuracy: 0.9310 - val_loss: 0.3353 - val_accuracy: 0.8839\n",
      "Epoch 52/100\n",
      "17/17 [==============================] - 0s 5ms/step - loss: 0.2394 - accuracy: 0.9273 - val_loss: 0.3300 - val_accuracy: 0.8973\n",
      "Epoch 53/100\n",
      "17/17 [==============================] - 0s 6ms/step - loss: 0.2194 - accuracy: 0.9311 - val_loss: 0.3278 - val_accuracy: 0.8973\n",
      "Epoch 54/100\n",
      "17/17 [==============================] - 0s 5ms/step - loss: 0.2130 - accuracy: 0.9517 - val_loss: 0.3231 - val_accuracy: 0.9062\n",
      "Epoch 55/100\n",
      "17/17 [==============================] - 0s 5ms/step - loss: 0.2111 - accuracy: 0.9378 - val_loss: 0.3161 - val_accuracy: 0.9062\n",
      "Epoch 56/100\n",
      "17/17 [==============================] - 0s 5ms/step - loss: 0.2111 - accuracy: 0.9417 - val_loss: 0.3248 - val_accuracy: 0.9062\n",
      "Epoch 57/100\n",
      "17/17 [==============================] - 0s 5ms/step - loss: 0.2022 - accuracy: 0.9438 - val_loss: 0.3132 - val_accuracy: 0.9018\n",
      "Epoch 58/100\n",
      "17/17 [==============================] - 0s 5ms/step - loss: 0.1957 - accuracy: 0.9417 - val_loss: 0.3142 - val_accuracy: 0.9062\n"
     ]
    },
    {
     "name": "stdout",
     "output_type": "stream",
     "text": [
      "Epoch 59/100\n",
      "17/17 [==============================] - 0s 5ms/step - loss: 0.1976 - accuracy: 0.9353 - val_loss: 0.3066 - val_accuracy: 0.9196\n",
      "Epoch 60/100\n",
      "17/17 [==============================] - 0s 6ms/step - loss: 0.1754 - accuracy: 0.9699 - val_loss: 0.3027 - val_accuracy: 0.9196\n",
      "Epoch 61/100\n",
      "17/17 [==============================] - 0s 6ms/step - loss: 0.1894 - accuracy: 0.9463 - val_loss: 0.3033 - val_accuracy: 0.9196\n",
      "Epoch 62/100\n",
      "17/17 [==============================] - 0s 6ms/step - loss: 0.1919 - accuracy: 0.9455 - val_loss: 0.3025 - val_accuracy: 0.9107\n",
      "Epoch 63/100\n",
      "17/17 [==============================] - 0s 10ms/step - loss: 0.1855 - accuracy: 0.9532 - val_loss: 0.3003 - val_accuracy: 0.9107\n",
      "Epoch 64/100\n",
      "17/17 [==============================] - 0s 7ms/step - loss: 0.1855 - accuracy: 0.9355 - val_loss: 0.2966 - val_accuracy: 0.9241\n",
      "Epoch 65/100\n",
      "17/17 [==============================] - 0s 4ms/step - loss: 0.1656 - accuracy: 0.9671 - val_loss: 0.2952 - val_accuracy: 0.9241\n",
      "Epoch 66/100\n",
      "17/17 [==============================] - 0s 5ms/step - loss: 0.1629 - accuracy: 0.9614 - val_loss: 0.2914 - val_accuracy: 0.9241\n",
      "Epoch 67/100\n",
      "17/17 [==============================] - 0s 4ms/step - loss: 0.1618 - accuracy: 0.9512 - val_loss: 0.2956 - val_accuracy: 0.9196\n",
      "Epoch 68/100\n",
      "17/17 [==============================] - 0s 5ms/step - loss: 0.1592 - accuracy: 0.9641 - val_loss: 0.2915 - val_accuracy: 0.9330\n",
      "Epoch 69/100\n",
      "17/17 [==============================] - 0s 5ms/step - loss: 0.1539 - accuracy: 0.9636 - val_loss: 0.2907 - val_accuracy: 0.9286\n",
      "Epoch 70/100\n",
      "17/17 [==============================] - 0s 5ms/step - loss: 0.1574 - accuracy: 0.9570 - val_loss: 0.2861 - val_accuracy: 0.9286\n",
      "Epoch 71/100\n",
      "17/17 [==============================] - 0s 6ms/step - loss: 0.1633 - accuracy: 0.9571 - val_loss: 0.2857 - val_accuracy: 0.9286\n",
      "Epoch 72/100\n",
      "17/17 [==============================] - 0s 5ms/step - loss: 0.1389 - accuracy: 0.9661 - val_loss: 0.2837 - val_accuracy: 0.9286\n",
      "Epoch 73/100\n",
      "17/17 [==============================] - 0s 5ms/step - loss: 0.1476 - accuracy: 0.9660 - val_loss: 0.2918 - val_accuracy: 0.9241\n",
      "Epoch 74/100\n",
      "17/17 [==============================] - 0s 6ms/step - loss: 0.1536 - accuracy: 0.9562 - val_loss: 0.2866 - val_accuracy: 0.9286\n",
      "Epoch 75/100\n",
      "17/17 [==============================] - 0s 5ms/step - loss: 0.1523 - accuracy: 0.9558 - val_loss: 0.2791 - val_accuracy: 0.9330\n",
      "Epoch 76/100\n",
      "17/17 [==============================] - 0s 5ms/step - loss: 0.1325 - accuracy: 0.9755 - val_loss: 0.2841 - val_accuracy: 0.9241\n",
      "Epoch 77/100\n",
      "17/17 [==============================] - 0s 5ms/step - loss: 0.1244 - accuracy: 0.9623 - val_loss: 0.2830 - val_accuracy: 0.9330\n",
      "Epoch 78/100\n",
      "17/17 [==============================] - 0s 6ms/step - loss: 0.1250 - accuracy: 0.9729 - val_loss: 0.2803 - val_accuracy: 0.9330\n",
      "Epoch 79/100\n",
      "17/17 [==============================] - 0s 6ms/step - loss: 0.1226 - accuracy: 0.9741 - val_loss: 0.2816 - val_accuracy: 0.9330\n",
      "Epoch 80/100\n",
      "17/17 [==============================] - 0s 5ms/step - loss: 0.1173 - accuracy: 0.9734 - val_loss: 0.2865 - val_accuracy: 0.9330\n",
      "Epoch 81/100\n",
      "17/17 [==============================] - 0s 6ms/step - loss: 0.1185 - accuracy: 0.9715 - val_loss: 0.2821 - val_accuracy: 0.9330\n",
      "Epoch 82/100\n",
      "17/17 [==============================] - 0s 7ms/step - loss: 0.1204 - accuracy: 0.9834 - val_loss: 0.2845 - val_accuracy: 0.9241\n",
      "Epoch 83/100\n",
      "17/17 [==============================] - 0s 6ms/step - loss: 0.1063 - accuracy: 0.9779 - val_loss: 0.2786 - val_accuracy: 0.9330\n",
      "Epoch 84/100\n",
      "17/17 [==============================] - 0s 6ms/step - loss: 0.1085 - accuracy: 0.9839 - val_loss: 0.2807 - val_accuracy: 0.9330\n",
      "Epoch 85/100\n",
      "17/17 [==============================] - 0s 6ms/step - loss: 0.1150 - accuracy: 0.9861 - val_loss: 0.2775 - val_accuracy: 0.9286\n",
      "Epoch 86/100\n",
      "17/17 [==============================] - 0s 5ms/step - loss: 0.1017 - accuracy: 0.9929 - val_loss: 0.2783 - val_accuracy: 0.9286\n",
      "Epoch 87/100\n",
      "17/17 [==============================] - 0s 5ms/step - loss: 0.0979 - accuracy: 0.9868 - val_loss: 0.2837 - val_accuracy: 0.9330\n",
      "Epoch 88/100\n",
      "17/17 [==============================] - 0s 5ms/step - loss: 0.0988 - accuracy: 0.9841 - val_loss: 0.2805 - val_accuracy: 0.9286\n",
      "Epoch 89/100\n",
      "17/17 [==============================] - 0s 5ms/step - loss: 0.0943 - accuracy: 0.9937 - val_loss: 0.2792 - val_accuracy: 0.9286\n",
      "Epoch 90/100\n",
      "17/17 [==============================] - 0s 5ms/step - loss: 0.0843 - accuracy: 0.9905 - val_loss: 0.2844 - val_accuracy: 0.9330\n",
      "Epoch 91/100\n",
      "17/17 [==============================] - 0s 8ms/step - loss: 0.0830 - accuracy: 0.9905 - val_loss: 0.2811 - val_accuracy: 0.9330\n",
      "Epoch 92/100\n",
      "17/17 [==============================] - 0s 5ms/step - loss: 0.0999 - accuracy: 0.9863 - val_loss: 0.2827 - val_accuracy: 0.9286\n",
      "Epoch 93/100\n",
      "17/17 [==============================] - 0s 5ms/step - loss: 0.0805 - accuracy: 0.9898 - val_loss: 0.2822 - val_accuracy: 0.9330\n",
      "Epoch 94/100\n",
      "17/17 [==============================] - 0s 6ms/step - loss: 0.0811 - accuracy: 0.9931 - val_loss: 0.2838 - val_accuracy: 0.9286\n",
      "Epoch 95/100\n",
      "17/17 [==============================] - 0s 5ms/step - loss: 0.0816 - accuracy: 0.9925 - val_loss: 0.2841 - val_accuracy: 0.9286\n",
      "Epoch 96/100\n",
      "17/17 [==============================] - 0s 5ms/step - loss: 0.0829 - accuracy: 0.9879 - val_loss: 0.2849 - val_accuracy: 0.9330\n",
      "Epoch 97/100\n",
      "17/17 [==============================] - 0s 5ms/step - loss: 0.0862 - accuracy: 0.9847 - val_loss: 0.2823 - val_accuracy: 0.9286\n",
      "Epoch 98/100\n",
      "17/17 [==============================] - 0s 5ms/step - loss: 0.0734 - accuracy: 0.9938 - val_loss: 0.2860 - val_accuracy: 0.9286\n",
      "Epoch 99/100\n",
      "17/17 [==============================] - 0s 5ms/step - loss: 0.0753 - accuracy: 0.9897 - val_loss: 0.2846 - val_accuracy: 0.9286\n",
      "Epoch 100/100\n",
      "17/17 [==============================] - 0s 6ms/step - loss: 0.0715 - accuracy: 0.9898 - val_loss: 0.2835 - val_accuracy: 0.9286\n"
     ]
    }
   ],
   "source": [
    "model_history = model.fit(X_train,y_train,validation_data=(X_test,y_test),epochs=100)"
   ]
  },
  {
   "cell_type": "markdown",
   "metadata": {},
   "source": [
    "## Evaluate Model Performance"
   ]
  },
  {
   "cell_type": "markdown",
   "metadata": {},
   "source": [
    "#### Summarizing history for loss"
   ]
  },
  {
   "cell_type": "code",
   "execution_count": 19,
   "metadata": {
    "ExecuteTime": {
     "end_time": "2021-04-26T17:27:31.038464Z",
     "start_time": "2021-04-26T17:27:30.690802Z"
    }
   },
   "outputs": [
    {
     "data": {
      "image/png": "[encoded data removed]",
      "text/plain": [
       "<Figure size 432x288 with 1 Axes>"
      ]
     },
     "metadata": {
      "needs_background": "light"
     },
     "output_type": "display_data"
    }
   ],
   "source": [
    "plt.plot(model_history.history['loss'])\n",
    "plt.plot(model_history.history['val_loss'])\n",
    "plt.title('model_loss')\n",
    "plt.ylabel('loss')\n",
    "plt.xlabel('epoch')\n",
    "plt.legend(['train','validation'],loc='upper left')\n",
    "plt.show()"
   ]
  },
  {
   "cell_type": "markdown",
   "metadata": {},
   "source": [
    "#### Summarizing history for accuracy"
   ]
  },
  {
   "cell_type": "code",
   "execution_count": 20,
   "metadata": {
    "ExecuteTime": {
     "end_time": "2021-04-26T17:27:31.524258Z",
     "start_time": "2021-04-26T17:27:31.038464Z"
    }
   },
   "outputs": [
    {
     "data": {
      "image/png": "[encoded data removed]",
      "text/plain": [
       "<Figure size 432x288 with 1 Axes>"
      ]
     },
     "metadata": {
      "needs_background": "light"
     },
     "output_type": "display_data"
    }
   ],
   "source": [
    "plt.plot(model_history.history['accuracy'])\n",
    "plt.plot(model_history.history['val_accuracy'])\n",
    "plt.title('model_accuracy')\n",
    "plt.ylabel('accuracy')\n",
    "plt.xlabel('epoch')\n",
    "plt.legend(['train','validation'],loc='upper left')\n",
    "plt.show()"
   ]
  },
  {
   "cell_type": "markdown",
   "metadata": {},
   "source": [
    "## Model Performance on Validation set"
   ]
  },
  {
   "cell_type": "code",
   "execution_count": 21,
   "metadata": {
    "ExecuteTime": {
     "end_time": "2021-04-26T17:27:31.740483Z",
     "start_time": "2021-04-26T17:27:31.524258Z"
    }
   },
   "outputs": [],
   "source": [
    "prediction = model.predict_classes(X_test)"
   ]
  },
  {
   "cell_type": "code",
   "execution_count": 22,
   "metadata": {
    "ExecuteTime": {
     "end_time": "2021-04-26T17:27:31.756066Z",
     "start_time": "2021-04-26T17:27:31.740483Z"
    }
   },
   "outputs": [
    {
     "data": {
      "text/plain": [
       "0.9285714285714286"
      ]
     },
     "execution_count": 22,
     "metadata": {},
     "output_type": "execute_result"
    }
   ],
   "source": [
    "accuracy_score(y_test,prediction)"
   ]
  },
  {
   "cell_type": "markdown",
   "metadata": {},
   "source": [
    "### So our model has good Test Accuracy"
   ]
  }
 ],
 "metadata": {
  "kernelspec": {
   "display_name": "Python 3",
   "language": "python",
   "name": "python3"
  },
  "language_info": {
   "codemirror_mode": {
    "name": "ipython",
    "version": 3
   },
   "file_extension": ".py",
   "mimetype": "text/x-python",
   "name": "python",
   "nbconvert_exporter": "python",
   "pygments_lexer": "ipython3",
   "version": "3.8.5"
  }
 },
 "nbformat": 4,
 "nbformat_minor": 4
}
